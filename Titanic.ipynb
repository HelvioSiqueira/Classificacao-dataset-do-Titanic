{
  "nbformat": 4,
  "nbformat_minor": 0,
  "metadata": {
    "colab": {
      "name": "Titanic.ipynb",
      "provenance": [],
      "collapsed_sections": [],
      "authorship_tag": "ABX9TyPBSB3cPL+hw19VB8zPrTM6",
      "include_colab_link": true
    },
    "kernelspec": {
      "name": "python3",
      "display_name": "Python 3"
    },
    "language_info": {
      "name": "python"
    }
  },
  "cells": [
    {
      "cell_type": "markdown",
      "metadata": {
        "id": "view-in-github",
        "colab_type": "text"
      },
      "source": [
        "<a href=\"https://colab.research.google.com/github/HelvioSiqueira/Classificacao-dataset-do-Titanic/blob/main/Titanic.ipynb\" target=\"_parent\"><img src=\"https://colab.research.google.com/assets/colab-badge.svg\" alt=\"Open In Colab\"/></a>"
      ]
    },
    {
      "cell_type": "markdown",
      "metadata": {
        "id": "Nx3pf1NVXeJq"
      },
      "source": [
        "# Importando bibliotecas e importando os dados"
      ]
    },
    {
      "cell_type": "code",
      "metadata": {
        "id": "DLCbnZ-u_bc4"
      },
      "source": [
        "import pandas as pd\n",
        "import numpy as np\n",
        "import random\n",
        "import seaborn as sns\n",
        "import matplotlib.pyplot as plt\n",
        "\n",
        "from sklearn.ensemble import RandomForestClassifier\n",
        "\n",
        "from sklearn.metrics import accuracy_score\n",
        "from sklearn.metrics import confusion_matrix\n",
        "\n",
        "%matplotlib inline"
      ],
      "execution_count": 1,
      "outputs": []
    },
    {
      "cell_type": "code",
      "metadata": {
        "id": "cKOVfrpg_eA2"
      },
      "source": [
        "dados_treino = pd.read_csv('train.csv')\n",
        "\n",
        "dados_teste = pd.read_csv('test.csv')"
      ],
      "execution_count": 2,
      "outputs": []
    },
    {
      "cell_type": "code",
      "metadata": {
        "colab": {
          "base_uri": "https://localhost:8080/"
        },
        "id": "TndDhyO3ADW2",
        "outputId": "21d783dd-2959-49fc-ea2d-fdaa9bdab9e5"
      },
      "source": [
        "dados_treino.shape"
      ],
      "execution_count": 3,
      "outputs": [
        {
          "output_type": "execute_result",
          "data": {
            "text/plain": [
              "(891, 12)"
            ]
          },
          "metadata": {
            "tags": []
          },
          "execution_count": 3
        }
      ]
    },
    {
      "cell_type": "code",
      "metadata": {
        "colab": {
          "base_uri": "https://localhost:8080/"
        },
        "id": "Rt7x16dyI4nh",
        "outputId": "5fe8fbd5-724b-4c77-dad3-16ee77b88f91"
      },
      "source": [
        "dados_teste.shape"
      ],
      "execution_count": 4,
      "outputs": [
        {
          "output_type": "execute_result",
          "data": {
            "text/plain": [
              "(418, 11)"
            ]
          },
          "metadata": {
            "tags": []
          },
          "execution_count": 4
        }
      ]
    },
    {
      "cell_type": "markdown",
      "metadata": {
        "id": "H_KXt3aXXlA1"
      },
      "source": [
        "# Análise exploratoria"
      ]
    },
    {
      "cell_type": "code",
      "metadata": {
        "colab": {
          "base_uri": "https://localhost:8080/",
          "height": 204
        },
        "id": "Qb93TZQe_pAk",
        "outputId": "607063e3-4b2d-4b03-fcbb-d0b63b38078f"
      },
      "source": [
        "dados_treino.head()"
      ],
      "execution_count": 5,
      "outputs": [
        {
          "output_type": "execute_result",
          "data": {
            "text/html": [
              "<div>\n",
              "<style scoped>\n",
              "    .dataframe tbody tr th:only-of-type {\n",
              "        vertical-align: middle;\n",
              "    }\n",
              "\n",
              "    .dataframe tbody tr th {\n",
              "        vertical-align: top;\n",
              "    }\n",
              "\n",
              "    .dataframe thead th {\n",
              "        text-align: right;\n",
              "    }\n",
              "</style>\n",
              "<table border=\"1\" class=\"dataframe\">\n",
              "  <thead>\n",
              "    <tr style=\"text-align: right;\">\n",
              "      <th></th>\n",
              "      <th>PassengerId</th>\n",
              "      <th>Survived</th>\n",
              "      <th>Pclass</th>\n",
              "      <th>Name</th>\n",
              "      <th>Sex</th>\n",
              "      <th>Age</th>\n",
              "      <th>SibSp</th>\n",
              "      <th>Parch</th>\n",
              "      <th>Ticket</th>\n",
              "      <th>Fare</th>\n",
              "      <th>Cabin</th>\n",
              "      <th>Embarked</th>\n",
              "    </tr>\n",
              "  </thead>\n",
              "  <tbody>\n",
              "    <tr>\n",
              "      <th>0</th>\n",
              "      <td>1</td>\n",
              "      <td>0</td>\n",
              "      <td>3</td>\n",
              "      <td>Braund, Mr. Owen Harris</td>\n",
              "      <td>male</td>\n",
              "      <td>22.0</td>\n",
              "      <td>1</td>\n",
              "      <td>0</td>\n",
              "      <td>A/5 21171</td>\n",
              "      <td>7.2500</td>\n",
              "      <td>NaN</td>\n",
              "      <td>S</td>\n",
              "    </tr>\n",
              "    <tr>\n",
              "      <th>1</th>\n",
              "      <td>2</td>\n",
              "      <td>1</td>\n",
              "      <td>1</td>\n",
              "      <td>Cumings, Mrs. John Bradley (Florence Briggs Th...</td>\n",
              "      <td>female</td>\n",
              "      <td>38.0</td>\n",
              "      <td>1</td>\n",
              "      <td>0</td>\n",
              "      <td>PC 17599</td>\n",
              "      <td>71.2833</td>\n",
              "      <td>C85</td>\n",
              "      <td>C</td>\n",
              "    </tr>\n",
              "    <tr>\n",
              "      <th>2</th>\n",
              "      <td>3</td>\n",
              "      <td>1</td>\n",
              "      <td>3</td>\n",
              "      <td>Heikkinen, Miss. Laina</td>\n",
              "      <td>female</td>\n",
              "      <td>26.0</td>\n",
              "      <td>0</td>\n",
              "      <td>0</td>\n",
              "      <td>STON/O2. 3101282</td>\n",
              "      <td>7.9250</td>\n",
              "      <td>NaN</td>\n",
              "      <td>S</td>\n",
              "    </tr>\n",
              "    <tr>\n",
              "      <th>3</th>\n",
              "      <td>4</td>\n",
              "      <td>1</td>\n",
              "      <td>1</td>\n",
              "      <td>Futrelle, Mrs. Jacques Heath (Lily May Peel)</td>\n",
              "      <td>female</td>\n",
              "      <td>35.0</td>\n",
              "      <td>1</td>\n",
              "      <td>0</td>\n",
              "      <td>113803</td>\n",
              "      <td>53.1000</td>\n",
              "      <td>C123</td>\n",
              "      <td>S</td>\n",
              "    </tr>\n",
              "    <tr>\n",
              "      <th>4</th>\n",
              "      <td>5</td>\n",
              "      <td>0</td>\n",
              "      <td>3</td>\n",
              "      <td>Allen, Mr. William Henry</td>\n",
              "      <td>male</td>\n",
              "      <td>35.0</td>\n",
              "      <td>0</td>\n",
              "      <td>0</td>\n",
              "      <td>373450</td>\n",
              "      <td>8.0500</td>\n",
              "      <td>NaN</td>\n",
              "      <td>S</td>\n",
              "    </tr>\n",
              "  </tbody>\n",
              "</table>\n",
              "</div>"
            ],
            "text/plain": [
              "   PassengerId  Survived  Pclass  ...     Fare Cabin  Embarked\n",
              "0            1         0       3  ...   7.2500   NaN         S\n",
              "1            2         1       1  ...  71.2833   C85         C\n",
              "2            3         1       3  ...   7.9250   NaN         S\n",
              "3            4         1       1  ...  53.1000  C123         S\n",
              "4            5         0       3  ...   8.0500   NaN         S\n",
              "\n",
              "[5 rows x 12 columns]"
            ]
          },
          "metadata": {
            "tags": []
          },
          "execution_count": 5
        }
      ]
    },
    {
      "cell_type": "code",
      "metadata": {
        "id": "wctxN7TN_pti"
      },
      "source": [
        "t = dados_treino['Fare'].value_counts()"
      ],
      "execution_count": 6,
      "outputs": []
    },
    {
      "cell_type": "code",
      "metadata": {
        "colab": {
          "base_uri": "https://localhost:8080/"
        },
        "id": "DJ9omc22XHfd",
        "outputId": "5e11a0df-fa4a-4418-c70f-a6288a913bae"
      },
      "source": [
        "dados_treino.info()"
      ],
      "execution_count": 7,
      "outputs": [
        {
          "output_type": "stream",
          "text": [
            "<class 'pandas.core.frame.DataFrame'>\n",
            "RangeIndex: 891 entries, 0 to 890\n",
            "Data columns (total 12 columns):\n",
            " #   Column       Non-Null Count  Dtype  \n",
            "---  ------       --------------  -----  \n",
            " 0   PassengerId  891 non-null    int64  \n",
            " 1   Survived     891 non-null    int64  \n",
            " 2   Pclass       891 non-null    int64  \n",
            " 3   Name         891 non-null    object \n",
            " 4   Sex          891 non-null    object \n",
            " 5   Age          714 non-null    float64\n",
            " 6   SibSp        891 non-null    int64  \n",
            " 7   Parch        891 non-null    int64  \n",
            " 8   Ticket       891 non-null    object \n",
            " 9   Fare         891 non-null    float64\n",
            " 10  Cabin        204 non-null    object \n",
            " 11  Embarked     889 non-null    object \n",
            "dtypes: float64(2), int64(5), object(5)\n",
            "memory usage: 83.7+ KB\n"
          ],
          "name": "stdout"
        }
      ]
    },
    {
      "cell_type": "code",
      "metadata": {
        "colab": {
          "base_uri": "https://localhost:8080/",
          "height": 297
        },
        "id": "S5E0A6kAXT_Q",
        "outputId": "3280b434-c9a5-4465-bddf-6175a3622811"
      },
      "source": [
        "dados_treino.describe()"
      ],
      "execution_count": 8,
      "outputs": [
        {
          "output_type": "execute_result",
          "data": {
            "text/html": [
              "<div>\n",
              "<style scoped>\n",
              "    .dataframe tbody tr th:only-of-type {\n",
              "        vertical-align: middle;\n",
              "    }\n",
              "\n",
              "    .dataframe tbody tr th {\n",
              "        vertical-align: top;\n",
              "    }\n",
              "\n",
              "    .dataframe thead th {\n",
              "        text-align: right;\n",
              "    }\n",
              "</style>\n",
              "<table border=\"1\" class=\"dataframe\">\n",
              "  <thead>\n",
              "    <tr style=\"text-align: right;\">\n",
              "      <th></th>\n",
              "      <th>PassengerId</th>\n",
              "      <th>Survived</th>\n",
              "      <th>Pclass</th>\n",
              "      <th>Age</th>\n",
              "      <th>SibSp</th>\n",
              "      <th>Parch</th>\n",
              "      <th>Fare</th>\n",
              "    </tr>\n",
              "  </thead>\n",
              "  <tbody>\n",
              "    <tr>\n",
              "      <th>count</th>\n",
              "      <td>891.000000</td>\n",
              "      <td>891.000000</td>\n",
              "      <td>891.000000</td>\n",
              "      <td>714.000000</td>\n",
              "      <td>891.000000</td>\n",
              "      <td>891.000000</td>\n",
              "      <td>891.000000</td>\n",
              "    </tr>\n",
              "    <tr>\n",
              "      <th>mean</th>\n",
              "      <td>446.000000</td>\n",
              "      <td>0.383838</td>\n",
              "      <td>2.308642</td>\n",
              "      <td>29.699118</td>\n",
              "      <td>0.523008</td>\n",
              "      <td>0.381594</td>\n",
              "      <td>32.204208</td>\n",
              "    </tr>\n",
              "    <tr>\n",
              "      <th>std</th>\n",
              "      <td>257.353842</td>\n",
              "      <td>0.486592</td>\n",
              "      <td>0.836071</td>\n",
              "      <td>14.526497</td>\n",
              "      <td>1.102743</td>\n",
              "      <td>0.806057</td>\n",
              "      <td>49.693429</td>\n",
              "    </tr>\n",
              "    <tr>\n",
              "      <th>min</th>\n",
              "      <td>1.000000</td>\n",
              "      <td>0.000000</td>\n",
              "      <td>1.000000</td>\n",
              "      <td>0.420000</td>\n",
              "      <td>0.000000</td>\n",
              "      <td>0.000000</td>\n",
              "      <td>0.000000</td>\n",
              "    </tr>\n",
              "    <tr>\n",
              "      <th>25%</th>\n",
              "      <td>223.500000</td>\n",
              "      <td>0.000000</td>\n",
              "      <td>2.000000</td>\n",
              "      <td>20.125000</td>\n",
              "      <td>0.000000</td>\n",
              "      <td>0.000000</td>\n",
              "      <td>7.910400</td>\n",
              "    </tr>\n",
              "    <tr>\n",
              "      <th>50%</th>\n",
              "      <td>446.000000</td>\n",
              "      <td>0.000000</td>\n",
              "      <td>3.000000</td>\n",
              "      <td>28.000000</td>\n",
              "      <td>0.000000</td>\n",
              "      <td>0.000000</td>\n",
              "      <td>14.454200</td>\n",
              "    </tr>\n",
              "    <tr>\n",
              "      <th>75%</th>\n",
              "      <td>668.500000</td>\n",
              "      <td>1.000000</td>\n",
              "      <td>3.000000</td>\n",
              "      <td>38.000000</td>\n",
              "      <td>1.000000</td>\n",
              "      <td>0.000000</td>\n",
              "      <td>31.000000</td>\n",
              "    </tr>\n",
              "    <tr>\n",
              "      <th>max</th>\n",
              "      <td>891.000000</td>\n",
              "      <td>1.000000</td>\n",
              "      <td>3.000000</td>\n",
              "      <td>80.000000</td>\n",
              "      <td>8.000000</td>\n",
              "      <td>6.000000</td>\n",
              "      <td>512.329200</td>\n",
              "    </tr>\n",
              "  </tbody>\n",
              "</table>\n",
              "</div>"
            ],
            "text/plain": [
              "       PassengerId    Survived      Pclass  ...       SibSp       Parch        Fare\n",
              "count   891.000000  891.000000  891.000000  ...  891.000000  891.000000  891.000000\n",
              "mean    446.000000    0.383838    2.308642  ...    0.523008    0.381594   32.204208\n",
              "std     257.353842    0.486592    0.836071  ...    1.102743    0.806057   49.693429\n",
              "min       1.000000    0.000000    1.000000  ...    0.000000    0.000000    0.000000\n",
              "25%     223.500000    0.000000    2.000000  ...    0.000000    0.000000    7.910400\n",
              "50%     446.000000    0.000000    3.000000  ...    0.000000    0.000000   14.454200\n",
              "75%     668.500000    1.000000    3.000000  ...    1.000000    0.000000   31.000000\n",
              "max     891.000000    1.000000    3.000000  ...    8.000000    6.000000  512.329200\n",
              "\n",
              "[8 rows x 7 columns]"
            ]
          },
          "metadata": {
            "tags": []
          },
          "execution_count": 8
        }
      ]
    },
    {
      "cell_type": "markdown",
      "metadata": {
        "id": "BqY0_SVGZrHQ"
      },
      "source": [
        "Checando quanto valores nulos há em cada coluna"
      ]
    },
    {
      "cell_type": "code",
      "metadata": {
        "colab": {
          "base_uri": "https://localhost:8080/"
        },
        "id": "wusOsE4r_0j3",
        "outputId": "84f02ca3-dc47-43fc-900d-ce9dc4356c28"
      },
      "source": [
        "print('Nulos: ')\n",
        "\n",
        "for coluna in dados_treino.columns:\n",
        "  print(f'{dados_treino[coluna].isnull().value_counts().name}: {dados_treino[coluna].isnull().value_counts()[0]}')"
      ],
      "execution_count": 9,
      "outputs": [
        {
          "output_type": "stream",
          "text": [
            "Nulos: \n",
            "PassengerId: 891\n",
            "Survived: 891\n",
            "Pclass: 891\n",
            "Name: 891\n",
            "Sex: 891\n",
            "Age: 714\n",
            "SibSp: 891\n",
            "Parch: 891\n",
            "Ticket: 891\n",
            "Fare: 891\n",
            "Cabin: 204\n",
            "Embarked: 889\n"
          ],
          "name": "stdout"
        }
      ]
    },
    {
      "cell_type": "code",
      "metadata": {
        "colab": {
          "base_uri": "https://localhost:8080/"
        },
        "id": "RKY7jZXjaK_E",
        "outputId": "9adffe2b-ed21-4d5e-db96-8e7bf6e39184"
      },
      "source": [
        "dados_treino.columns"
      ],
      "execution_count": 10,
      "outputs": [
        {
          "output_type": "execute_result",
          "data": {
            "text/plain": [
              "Index(['PassengerId', 'Survived', 'Pclass', 'Name', 'Sex', 'Age', 'SibSp',\n",
              "       'Parch', 'Ticket', 'Fare', 'Cabin', 'Embarked'],\n",
              "      dtype='object')"
            ]
          },
          "metadata": {
            "tags": []
          },
          "execution_count": 10
        }
      ]
    },
    {
      "cell_type": "code",
      "metadata": {
        "colab": {
          "base_uri": "https://localhost:8080/",
          "height": 591
        },
        "id": "YEdhDiLLQ_lI",
        "outputId": "ec12a0de-01c1-4749-b8f1-502b341fc195"
      },
      "source": [
        "sns.set_style('whitegrid')\n",
        "\n",
        "women = dados_treino.loc[dados_treino['Sex'] == 'female']\n",
        "men = dados_treino.loc[dados_treino['Sex'] == 'male']\n",
        "\n",
        "women.Age.dropna(inplace= True)\n",
        "men.Age.dropna(inplace= True)\n",
        "\n",
        "fig, axes = plt.subplots(nrows= 1, ncols= 2, figsize= (15, 6))\n",
        "\n",
        "ax= sns.histplot(women, x= 'Age', hue= 'Survived', bins= 40, ax= axes[0], alpha= 0.7)\n",
        "ax.legend(['Survived', 'Not survived'])\n",
        "ax.set_title('Women')\n",
        "\n",
        "ax= sns.histplot(men, x= 'Age', hue= 'Survived', bins= 40, ax= axes[1], alpha= 0.7)\n",
        "ax.legend(['Survived', 'Not survived'])\n",
        "ax.set_title('Men')"
      ],
      "execution_count": 11,
      "outputs": [
        {
          "output_type": "stream",
          "text": [
            "/usr/local/lib/python3.7/dist-packages/ipykernel_launcher.py:6: SettingWithCopyWarning: \n",
            "A value is trying to be set on a copy of a slice from a DataFrame\n",
            "\n",
            "See the caveats in the documentation: https://pandas.pydata.org/pandas-docs/stable/user_guide/indexing.html#returning-a-view-versus-a-copy\n",
            "  \n",
            "/usr/local/lib/python3.7/dist-packages/ipykernel_launcher.py:7: SettingWithCopyWarning: \n",
            "A value is trying to be set on a copy of a slice from a DataFrame\n",
            "\n",
            "See the caveats in the documentation: https://pandas.pydata.org/pandas-docs/stable/user_guide/indexing.html#returning-a-view-versus-a-copy\n",
            "  import sys\n"
          ],
          "name": "stderr"
        },
        {
          "output_type": "execute_result",
          "data": {
            "text/plain": [
              "Text(0.5, 1.0, 'Men')"
            ]
          },
          "metadata": {
            "tags": []
          },
          "execution_count": 11
        },
        {
          "output_type": "display_data",
          "data": {
            "image/png": "[encoded data removed]",
            "text/plain": [
              "<Figure size 1080x432 with 2 Axes>"
            ]
          },
          "metadata": {
            "tags": []
          }
        }
      ]
    },
    {
      "cell_type": "markdown",
      "metadata": {
        "id": "yV2g0PCLcZ1Z"
      },
      "source": [
        "Aparentemente os homens tem uma probabilidade maior de morte dos 20 aos 38 anos, e uma taxa de sobrevivencia maior dos 18 aos 30 anos, variando mais em relação às mulheres."
      ]
    },
    {
      "cell_type": "code",
      "metadata": {
        "colab": {
          "base_uri": "https://localhost:8080/",
          "height": 674
        },
        "id": "ELIu0I5udKgB",
        "outputId": "5bc2fab4-fc85-49c8-a852-2c61e7a9b798"
      },
      "source": [
        "Facetgrid = sns.FacetGrid(dados_treino, row= 'Embarked')\n",
        "\n",
        "Facetgrid.map(sns.pointplot, 'Pclass', 'Survived', 'Sex', palette= 'muted', order= None, hue_order= None)\n",
        "\n",
        "Facetgrid.add_legend()"
      ],
      "execution_count": 12,
      "outputs": [
        {
          "output_type": "execute_result",
          "data": {
            "text/plain": [
              "<seaborn.axisgrid.FacetGrid at 0x7fb271e95b10>"
            ]
          },
          "metadata": {
            "tags": []
          },
          "execution_count": 12
        },
        {
          "output_type": "display_data",
          "data": {
            "image/png": "[encoded data removed]",
            "text/plain": [
              "<Figure size 286.5x648 with 3 Axes>"
            ]
          },
          "metadata": {
            "tags": []
          }
        }
      ]
    },
    {
      "cell_type": "markdown",
      "metadata": {
        "id": "gVGTeU8KdB9N"
      },
      "source": [
        "As mulheres tem uma chance maior de sobrevivencia que os homens entrando pelas portas Q e S"
      ]
    },
    {
      "cell_type": "code",
      "metadata": {
        "colab": {
          "base_uri": "https://localhost:8080/",
          "height": 296
        },
        "id": "ntU6gy1emwCW",
        "outputId": "a08a0b5f-a655-491f-b48e-51d83363b6bf"
      },
      "source": [
        "sns.barplot(data= dados_treino, x= 'Pclass', y= 'Survived')"
      ],
      "execution_count": 13,
      "outputs": [
        {
          "output_type": "execute_result",
          "data": {
            "text/plain": [
              "<matplotlib.axes._subplots.AxesSubplot at 0x7fb26986b610>"
            ]
          },
          "metadata": {
            "tags": []
          },
          "execution_count": 13
        },
        {
          "output_type": "display_data",
          "data": {
            "image/png": "[encoded data removed]",
            "text/plain": [
              "<Figure size 432x288 with 1 Axes>"
            ]
          },
          "metadata": {
            "tags": []
          }
        }
      ]
    },
    {
      "cell_type": "markdown",
      "metadata": {
        "id": "Epo86QALdUPU"
      },
      "source": [
        "As pessoas tiveram uma chance de sobrevivencia relativamente maior na 1° classe"
      ]
    },
    {
      "cell_type": "code",
      "metadata": {
        "colab": {
          "base_uri": "https://localhost:8080/",
          "height": 519
        },
        "id": "GmpxvVsMqRjy",
        "outputId": "1fbaf449-b78b-4701-87d0-c63678dfd591"
      },
      "source": [
        "plt.figure()\n",
        "\n",
        "grid = sns.FacetGrid(dados_treino, col= 'Survived', row= 'Pclass', height= 2.2, aspect= 1.6)\n",
        "\n",
        "grid.map(plt.hist, 'Age', alpha= 0.5, bins= 20)\n",
        "\n",
        "grid.add_legend()"
      ],
      "execution_count": 14,
      "outputs": [
        {
          "output_type": "execute_result",
          "data": {
            "text/plain": [
              "<seaborn.axisgrid.FacetGrid at 0x7fb2697e4390>"
            ]
          },
          "metadata": {
            "tags": []
          },
          "execution_count": 14
        },
        {
          "output_type": "display_data",
          "data": {
            "text/plain": [
              "<Figure size 432x288 with 0 Axes>"
            ]
          },
          "metadata": {
            "tags": []
          }
        },
        {
          "output_type": "display_data",
          "data": {
            "image/png": "[encoded data removed]",
            "text/plain": [
              "<Figure size 514.88x475.2 with 6 Axes>"
            ]
          },
          "metadata": {
            "tags": []
          }
        }
      ]
    },
    {
      "cell_type": "markdown",
      "metadata": {
        "id": "v6L6rJ7vdz6S"
      },
      "source": [
        "Nesse grafico fica mais claro que as pessoas tiveram uma chance maior de sobrevivencia na 1° classe, em contrapartida há uma chance maior de morte na 3° classe"
      ]
    },
    {
      "cell_type": "code",
      "metadata": {
        "id": "aTtxJXlceXl_"
      },
      "source": [
        ""
      ],
      "execution_count": 14,
      "outputs": []
    },
    {
      "cell_type": "code",
      "metadata": {
        "colab": {
          "base_uri": "https://localhost:8080/",
          "height": 204
        },
        "id": "HaJHyMV8NCUH",
        "outputId": "b70f78c9-c142-4238-8c34-dc198f8b12c4"
      },
      "source": [
        "dados_treino.head()"
      ],
      "execution_count": 15,
      "outputs": [
        {
          "output_type": "execute_result",
          "data": {
            "text/html": [
              "<div>\n",
              "<style scoped>\n",
              "    .dataframe tbody tr th:only-of-type {\n",
              "        vertical-align: middle;\n",
              "    }\n",
              "\n",
              "    .dataframe tbody tr th {\n",
              "        vertical-align: top;\n",
              "    }\n",
              "\n",
              "    .dataframe thead th {\n",
              "        text-align: right;\n",
              "    }\n",
              "</style>\n",
              "<table border=\"1\" class=\"dataframe\">\n",
              "  <thead>\n",
              "    <tr style=\"text-align: right;\">\n",
              "      <th></th>\n",
              "      <th>PassengerId</th>\n",
              "      <th>Survived</th>\n",
              "      <th>Pclass</th>\n",
              "      <th>Name</th>\n",
              "      <th>Sex</th>\n",
              "      <th>Age</th>\n",
              "      <th>SibSp</th>\n",
              "      <th>Parch</th>\n",
              "      <th>Ticket</th>\n",
              "      <th>Fare</th>\n",
              "      <th>Cabin</th>\n",
              "      <th>Embarked</th>\n",
              "    </tr>\n",
              "  </thead>\n",
              "  <tbody>\n",
              "    <tr>\n",
              "      <th>0</th>\n",
              "      <td>1</td>\n",
              "      <td>0</td>\n",
              "      <td>3</td>\n",
              "      <td>Braund, Mr. Owen Harris</td>\n",
              "      <td>male</td>\n",
              "      <td>22.0</td>\n",
              "      <td>1</td>\n",
              "      <td>0</td>\n",
              "      <td>A/5 21171</td>\n",
              "      <td>7.2500</td>\n",
              "      <td>NaN</td>\n",
              "      <td>S</td>\n",
              "    </tr>\n",
              "    <tr>\n",
              "      <th>1</th>\n",
              "      <td>2</td>\n",
              "      <td>1</td>\n",
              "      <td>1</td>\n",
              "      <td>Cumings, Mrs. John Bradley (Florence Briggs Th...</td>\n",
              "      <td>female</td>\n",
              "      <td>38.0</td>\n",
              "      <td>1</td>\n",
              "      <td>0</td>\n",
              "      <td>PC 17599</td>\n",
              "      <td>71.2833</td>\n",
              "      <td>C85</td>\n",
              "      <td>C</td>\n",
              "    </tr>\n",
              "    <tr>\n",
              "      <th>2</th>\n",
              "      <td>3</td>\n",
              "      <td>1</td>\n",
              "      <td>3</td>\n",
              "      <td>Heikkinen, Miss. Laina</td>\n",
              "      <td>female</td>\n",
              "      <td>26.0</td>\n",
              "      <td>0</td>\n",
              "      <td>0</td>\n",
              "      <td>STON/O2. 3101282</td>\n",
              "      <td>7.9250</td>\n",
              "      <td>NaN</td>\n",
              "      <td>S</td>\n",
              "    </tr>\n",
              "    <tr>\n",
              "      <th>3</th>\n",
              "      <td>4</td>\n",
              "      <td>1</td>\n",
              "      <td>1</td>\n",
              "      <td>Futrelle, Mrs. Jacques Heath (Lily May Peel)</td>\n",
              "      <td>female</td>\n",
              "      <td>35.0</td>\n",
              "      <td>1</td>\n",
              "      <td>0</td>\n",
              "      <td>113803</td>\n",
              "      <td>53.1000</td>\n",
              "      <td>C123</td>\n",
              "      <td>S</td>\n",
              "    </tr>\n",
              "    <tr>\n",
              "      <th>4</th>\n",
              "      <td>5</td>\n",
              "      <td>0</td>\n",
              "      <td>3</td>\n",
              "      <td>Allen, Mr. William Henry</td>\n",
              "      <td>male</td>\n",
              "      <td>35.0</td>\n",
              "      <td>0</td>\n",
              "      <td>0</td>\n",
              "      <td>373450</td>\n",
              "      <td>8.0500</td>\n",
              "      <td>NaN</td>\n",
              "      <td>S</td>\n",
              "    </tr>\n",
              "  </tbody>\n",
              "</table>\n",
              "</div>"
            ],
            "text/plain": [
              "   PassengerId  Survived  Pclass  ...     Fare Cabin  Embarked\n",
              "0            1         0       3  ...   7.2500   NaN         S\n",
              "1            2         1       1  ...  71.2833   C85         C\n",
              "2            3         1       3  ...   7.9250   NaN         S\n",
              "3            4         1       1  ...  53.1000  C123         S\n",
              "4            5         0       3  ...   8.0500   NaN         S\n",
              "\n",
              "[5 rows x 12 columns]"
            ]
          },
          "metadata": {
            "tags": []
          },
          "execution_count": 15
        }
      ]
    },
    {
      "cell_type": "code",
      "metadata": {
        "id": "ehqrSUwdJN5m"
      },
      "source": [
        "dados = [dados_treino, dados_teste]\n",
        "\n",
        "for dataset in dados:\n",
        "\n",
        "  dataset['relatives'] = dataset['SibSp'] + dataset['Parch']\n",
        "\n",
        "  dataset.loc[dataset['relatives'] > 0, 'not_alone'] = 0\n",
        "  dataset.loc[dataset['relatives'] == 0, 'not_alone'] = 1 \n",
        "\n",
        "  dataset['not_alone'] = dataset['not_alone'].astype(int)"
      ],
      "execution_count": 16,
      "outputs": []
    },
    {
      "cell_type": "code",
      "metadata": {
        "colab": {
          "base_uri": "https://localhost:8080/",
          "height": 388
        },
        "id": "fohGHZoFU55n",
        "outputId": "abfcbdec-7341-4df8-e8f7-4f37442134d1"
      },
      "source": [
        "plt.figure(figsize= (15, 6))\n",
        "\n",
        "axes = sns.pointplot(data= dados_treino, x= 'relatives', y= 'Survived', aspect= 2.5)"
      ],
      "execution_count": 17,
      "outputs": [
        {
          "output_type": "display_data",
          "data": {
            "image/png": "[encoded data removed]",
            "text/plain": [
              "<Figure size 1080x432 with 1 Axes>"
            ]
          },
          "metadata": {
            "tags": []
          }
        }
      ]
    },
    {
      "cell_type": "markdown",
      "metadata": {
        "id": "mudIAecce1mv"
      },
      "source": [
        "# Pré-Processamento de dados"
      ]
    },
    {
      "cell_type": "code",
      "metadata": {
        "colab": {
          "base_uri": "https://localhost:8080/",
          "height": 238
        },
        "id": "kCtJi6Hue43t",
        "outputId": "dddfc0b7-0d46-4c7b-c023-de890315c7bf"
      },
      "source": [
        "dados_treino.head()"
      ],
      "execution_count": 18,
      "outputs": [
        {
          "output_type": "execute_result",
          "data": {
            "text/html": [
              "<div>\n",
              "<style scoped>\n",
              "    .dataframe tbody tr th:only-of-type {\n",
              "        vertical-align: middle;\n",
              "    }\n",
              "\n",
              "    .dataframe tbody tr th {\n",
              "        vertical-align: top;\n",
              "    }\n",
              "\n",
              "    .dataframe thead th {\n",
              "        text-align: right;\n",
              "    }\n",
              "</style>\n",
              "<table border=\"1\" class=\"dataframe\">\n",
              "  <thead>\n",
              "    <tr style=\"text-align: right;\">\n",
              "      <th></th>\n",
              "      <th>PassengerId</th>\n",
              "      <th>Survived</th>\n",
              "      <th>Pclass</th>\n",
              "      <th>Name</th>\n",
              "      <th>Sex</th>\n",
              "      <th>Age</th>\n",
              "      <th>SibSp</th>\n",
              "      <th>Parch</th>\n",
              "      <th>Ticket</th>\n",
              "      <th>Fare</th>\n",
              "      <th>Cabin</th>\n",
              "      <th>Embarked</th>\n",
              "      <th>relatives</th>\n",
              "      <th>not_alone</th>\n",
              "    </tr>\n",
              "  </thead>\n",
              "  <tbody>\n",
              "    <tr>\n",
              "      <th>0</th>\n",
              "      <td>1</td>\n",
              "      <td>0</td>\n",
              "      <td>3</td>\n",
              "      <td>Braund, Mr. Owen Harris</td>\n",
              "      <td>male</td>\n",
              "      <td>22.0</td>\n",
              "      <td>1</td>\n",
              "      <td>0</td>\n",
              "      <td>A/5 21171</td>\n",
              "      <td>7.2500</td>\n",
              "      <td>NaN</td>\n",
              "      <td>S</td>\n",
              "      <td>1</td>\n",
              "      <td>0</td>\n",
              "    </tr>\n",
              "    <tr>\n",
              "      <th>1</th>\n",
              "      <td>2</td>\n",
              "      <td>1</td>\n",
              "      <td>1</td>\n",
              "      <td>Cumings, Mrs. John Bradley (Florence Briggs Th...</td>\n",
              "      <td>female</td>\n",
              "      <td>38.0</td>\n",
              "      <td>1</td>\n",
              "      <td>0</td>\n",
              "      <td>PC 17599</td>\n",
              "      <td>71.2833</td>\n",
              "      <td>C85</td>\n",
              "      <td>C</td>\n",
              "      <td>1</td>\n",
              "      <td>0</td>\n",
              "    </tr>\n",
              "    <tr>\n",
              "      <th>2</th>\n",
              "      <td>3</td>\n",
              "      <td>1</td>\n",
              "      <td>3</td>\n",
              "      <td>Heikkinen, Miss. Laina</td>\n",
              "      <td>female</td>\n",
              "      <td>26.0</td>\n",
              "      <td>0</td>\n",
              "      <td>0</td>\n",
              "      <td>STON/O2. 3101282</td>\n",
              "      <td>7.9250</td>\n",
              "      <td>NaN</td>\n",
              "      <td>S</td>\n",
              "      <td>0</td>\n",
              "      <td>1</td>\n",
              "    </tr>\n",
              "    <tr>\n",
              "      <th>3</th>\n",
              "      <td>4</td>\n",
              "      <td>1</td>\n",
              "      <td>1</td>\n",
              "      <td>Futrelle, Mrs. Jacques Heath (Lily May Peel)</td>\n",
              "      <td>female</td>\n",
              "      <td>35.0</td>\n",
              "      <td>1</td>\n",
              "      <td>0</td>\n",
              "      <td>113803</td>\n",
              "      <td>53.1000</td>\n",
              "      <td>C123</td>\n",
              "      <td>S</td>\n",
              "      <td>1</td>\n",
              "      <td>0</td>\n",
              "    </tr>\n",
              "    <tr>\n",
              "      <th>4</th>\n",
              "      <td>5</td>\n",
              "      <td>0</td>\n",
              "      <td>3</td>\n",
              "      <td>Allen, Mr. William Henry</td>\n",
              "      <td>male</td>\n",
              "      <td>35.0</td>\n",
              "      <td>0</td>\n",
              "      <td>0</td>\n",
              "      <td>373450</td>\n",
              "      <td>8.0500</td>\n",
              "      <td>NaN</td>\n",
              "      <td>S</td>\n",
              "      <td>0</td>\n",
              "      <td>1</td>\n",
              "    </tr>\n",
              "  </tbody>\n",
              "</table>\n",
              "</div>"
            ],
            "text/plain": [
              "   PassengerId  Survived  Pclass  ... Embarked relatives  not_alone\n",
              "0            1         0       3  ...        S         1          0\n",
              "1            2         1       1  ...        C         1          0\n",
              "2            3         1       3  ...        S         0          1\n",
              "3            4         1       1  ...        S         1          0\n",
              "4            5         0       3  ...        S         0          1\n",
              "\n",
              "[5 rows x 14 columns]"
            ]
          },
          "metadata": {
            "tags": []
          },
          "execution_count": 18
        }
      ]
    },
    {
      "cell_type": "markdown",
      "metadata": {
        "id": "DWQi3RvLfHpf"
      },
      "source": [
        "Deletando a coluna PassengerId que não tem nenhum motivo de uso nesse caso"
      ]
    },
    {
      "cell_type": "code",
      "metadata": {
        "id": "p9cXQtn1fAw7"
      },
      "source": [
        "dados = [dados_treino, dados_teste]\n",
        "\n",
        "for dataset in dados:\n",
        "  dataset.drop(columns= 'PassengerId', inplace= True)"
      ],
      "execution_count": 19,
      "outputs": []
    },
    {
      "cell_type": "markdown",
      "metadata": {
        "id": "N4AMLNf9gEvw"
      },
      "source": [
        "Agrupando as cabines em decks"
      ]
    },
    {
      "cell_type": "code",
      "metadata": {
        "id": "NA3--bO1fGo7"
      },
      "source": [
        "import re\n",
        "\n",
        "deck = {'A': 1, 'B': 2, 'C': 3, 'D': 4, 'E': 5, 'F': 6, 'G': 7, 'U': 8}\n",
        "\n",
        "dados = [dados_treino, dados_teste]\n",
        "\n",
        "for dataset in dados:\n",
        "  dataset['Cabin'] = dataset['Cabin'].fillna('U0')\n",
        "  dataset['Deck'] = dataset['Cabin'].map(lambda x: re.compile(\"([a-zA-Z]+)\").search(x).group())\n",
        "\n",
        "  dataset['Deck'] = dataset['Deck'].map(deck)\n",
        "  dataset['Deck'] = dataset['Deck'].fillna(0)\n",
        "\n",
        "  dataset['Deck'] = dataset['Deck'].astype(int)"
      ],
      "execution_count": 20,
      "outputs": []
    },
    {
      "cell_type": "markdown",
      "metadata": {
        "id": "p2U11j4mgR1-"
      },
      "source": [
        "Deletando a coluna 'Cabin' dos dois Df"
      ]
    },
    {
      "cell_type": "code",
      "metadata": {
        "id": "nCCV1MUqcTY1"
      },
      "source": [
        "dados_treino.drop(columns= 'Cabin', axis= 1, inplace= True)\n",
        "dados_teste.drop(columns= 'Cabin', axis= 1, inplace= True)"
      ],
      "execution_count": 21,
      "outputs": []
    },
    {
      "cell_type": "markdown",
      "metadata": {
        "id": "ey83ENqhmcDD"
      },
      "source": [
        "Substituindo os valores nulos da coluna 'Age' pelo desvio padrão da idade"
      ]
    },
    {
      "cell_type": "code",
      "metadata": {
        "id": "6PMpp7rNfnAX"
      },
      "source": [
        "dados = [dados_treino, dados_teste]\n",
        "\n",
        "for dataset in dados:\n",
        "\n",
        "  idade_media = dataset['Age'].mean()\n",
        "  idade_std = dataset['Age'].std()\n",
        "  idade_nulos = dataset['Age'].isnull().sum()\n",
        "\n",
        "  nova_idade = np.random.randint(idade_media - idade_std, idade_media + idade_std, size= idade_nulos)\n",
        "\n",
        "  idade_corte = dataset['Age'].copy()\n",
        "  idade_corte[np.isnan(idade_corte)] = nova_idade\n",
        "\n",
        "  dataset['Age'] = idade_corte\n",
        "  dataset['Age'] = dataset['Age'].astype(int)"
      ],
      "execution_count": 22,
      "outputs": []
    },
    {
      "cell_type": "code",
      "metadata": {
        "colab": {
          "base_uri": "https://localhost:8080/"
        },
        "id": "5XI0iD0bpEWy",
        "outputId": "07460217-6226-4dae-da74-37e8fb3a843a"
      },
      "source": [
        "dados_treino['Embarked'].isnull().sum()"
      ],
      "execution_count": 23,
      "outputs": [
        {
          "output_type": "execute_result",
          "data": {
            "text/plain": [
              "2"
            ]
          },
          "metadata": {
            "tags": []
          },
          "execution_count": 23
        }
      ]
    },
    {
      "cell_type": "markdown",
      "metadata": {
        "id": "Rf0yFrtCrcn7"
      },
      "source": [
        "Substituindo os valores nulos de 'Embarked' pela moda"
      ]
    },
    {
      "cell_type": "code",
      "metadata": {
        "id": "cy01-N8KlhO7"
      },
      "source": [
        "dados = [dados_treino, dados_teste]\n",
        "\n",
        "for dataset in dados:\n",
        "  dataset['Embarked'].fillna(dataset['Embarked'].mode()[0], inplace= True)"
      ],
      "execution_count": 24,
      "outputs": []
    },
    {
      "cell_type": "code",
      "metadata": {
        "id": "5vXrmS4Iq97i",
        "colab": {
          "base_uri": "https://localhost:8080/"
        },
        "outputId": "481288f7-5f23-4a16-9f83-79ca0be41c09"
      },
      "source": [
        "for coluna in dados_treino.columns:\n",
        "  print(f'{dados_treino[coluna].isnull().value_counts().name}: {dados_treino[coluna].isnull().value_counts()[0]}')"
      ],
      "execution_count": 25,
      "outputs": [
        {
          "output_type": "stream",
          "text": [
            "Survived: 891\n",
            "Pclass: 891\n",
            "Name: 891\n",
            "Sex: 891\n",
            "Age: 891\n",
            "SibSp: 891\n",
            "Parch: 891\n",
            "Ticket: 891\n",
            "Fare: 891\n",
            "Embarked: 891\n",
            "relatives: 891\n",
            "not_alone: 891\n",
            "Deck: 891\n"
          ],
          "name": "stdout"
        }
      ]
    },
    {
      "cell_type": "markdown",
      "metadata": {
        "id": "3mXfYftwsgmP"
      },
      "source": [
        "Transformando a coluna 'Fare' em inteiros"
      ]
    },
    {
      "cell_type": "code",
      "metadata": {
        "id": "2Gps7_f8rp7i"
      },
      "source": [
        "dados = [dados_treino, dados_teste]\n",
        "\n",
        "for dataset in dados:\n",
        "  \n",
        "  dataset.fillna(0, inplace= True)\n",
        "  dataset['Fare'] = dataset['Fare'].astype(int)"
      ],
      "execution_count": 26,
      "outputs": []
    },
    {
      "cell_type": "markdown",
      "metadata": {
        "id": "lnSSzQb6xfZ6"
      },
      "source": [
        "Extraindo os titulos e substituindo os que aparecem menos por Rare"
      ]
    },
    {
      "cell_type": "code",
      "metadata": {
        "id": "hQfAc1Untdku"
      },
      "source": [
        "dados = [dados_treino, dados_teste]\n",
        "\n",
        "for dataset in dados:\n",
        "  dataset['Title'] = dataset.Name.str.extract(' ([A-Za-z]+)\\.', expand= False)\n",
        "\n",
        "  dataset['Title'].replace(['Col', 'Major', 'Capt', 'Countess', 'Jonkheer', 'Don', 'Sir', 'Lady'], 'Rare', inplace= True)\n",
        "  dataset['Title'].replace('Mlle', 'Miss', inplace= True)\n",
        "  dataset['Title'].replace('Mme', 'Miss', inplace= True)\n",
        "  dataset['Title'].replace('Ms', 'Mrs', inplace= True)"
      ],
      "execution_count": 27,
      "outputs": []
    },
    {
      "cell_type": "code",
      "metadata": {
        "id": "nXF32hTMzYKN",
        "colab": {
          "base_uri": "https://localhost:8080/",
          "height": 405
        },
        "outputId": "1d0a8895-8ea5-4813-e0fa-938d9e53f217"
      },
      "source": [
        "plt.figure(figsize= (15, 6))\n",
        "\n",
        "sobreviventes = dados_treino.loc[dados_treino['Survived'] == 1]\n",
        "\n",
        "tripulantes_agrupado = dados_treino.groupby(dados_treino['Title']).count()\n",
        "sobreviventes_agrupado = sobreviventes.groupby(sobreviventes['Title']).sum()\n",
        "\n",
        "pct_sobreviventes = sobreviventes_agrupado['Survived'] / tripulantes_agrupado['Survived']\n",
        "pct_sobreviventes.sort_values(ascending= True, inplace= True)\n",
        "\n",
        "sns.barplot(x = pct_sobreviventes.index, y= pct_sobreviventes.values)\n",
        "plt.ylabel('% de sobreviventes')\n",
        "plt.xlabel('Titulo')"
      ],
      "execution_count": 28,
      "outputs": [
        {
          "output_type": "execute_result",
          "data": {
            "text/plain": [
              "Text(0.5, 0, 'Titulo')"
            ]
          },
          "metadata": {
            "tags": []
          },
          "execution_count": 28
        },
        {
          "output_type": "display_data",
          "data": {
            "image/png": "[encoded data removed]",
            "text/plain": [
              "<Figure size 1080x432 with 1 Axes>"
            ]
          },
          "metadata": {
            "tags": []
          }
        }
      ]
    },
    {
      "cell_type": "markdown",
      "metadata": {
        "id": "v6QpPoRQxs6J"
      },
      "source": [
        "Mapeando os titulos com inteiros"
      ]
    },
    {
      "cell_type": "code",
      "metadata": {
        "id": "VZiCCwDDr4SZ"
      },
      "source": [
        "dados = [dados_treino, dados_teste]\n",
        "\n",
        "titulos = {'Mr': 1, 'Miss': 2, 'Mrs': 3, 'Master': 4, 'Rare': 5,'Dr': 6, 'Rev': 7}\n",
        "\n",
        "for dataset in dados:\n",
        "  dataset['Title'] = dataset['Title'].map(titulos)\n",
        "\n",
        "  dataset['Title'].fillna(0, inplace= True)\n",
        "\n",
        "  dataset.drop(columns= 'Name', inplace= True)"
      ],
      "execution_count": 29,
      "outputs": []
    },
    {
      "cell_type": "code",
      "metadata": {
        "colab": {
          "base_uri": "https://localhost:8080/"
        },
        "id": "w5I7zxOGyLds",
        "outputId": "20fc4df2-0aad-48cf-bcbc-0f5a673e7e85"
      },
      "source": [
        "dados_treino['Sex'].value_counts()"
      ],
      "execution_count": 30,
      "outputs": [
        {
          "output_type": "execute_result",
          "data": {
            "text/plain": [
              "male      577\n",
              "female    314\n",
              "Name: Sex, dtype: int64"
            ]
          },
          "metadata": {
            "tags": []
          },
          "execution_count": 30
        }
      ]
    },
    {
      "cell_type": "markdown",
      "metadata": {
        "id": "mEMtJjvrue3P"
      },
      "source": [
        "Mapeando o Sexo com inteiros"
      ]
    },
    {
      "cell_type": "code",
      "metadata": {
        "id": "FN1o_dV1yaBK"
      },
      "source": [
        "dados = [dados_treino, dados_teste]\n",
        "\n",
        "generos = {'male': 0, 'female': 1}\n",
        "\n",
        "for dataset in dados:\n",
        "  dataset['Sex'] = dataset['Sex'].map(generos)"
      ],
      "execution_count": 31,
      "outputs": []
    },
    {
      "cell_type": "markdown",
      "metadata": {
        "id": "tGaaJNbcujNL"
      },
      "source": [
        "Excluindo a coluna Ticket"
      ]
    },
    {
      "cell_type": "code",
      "metadata": {
        "id": "W-0fslt6y2Nj"
      },
      "source": [
        "dados_treino.drop(columns= 'Ticket', inplace= True)\n",
        "dados_teste.drop(columns= 'Ticket', inplace= True)"
      ],
      "execution_count": 32,
      "outputs": []
    },
    {
      "cell_type": "markdown",
      "metadata": {
        "id": "C0MJOwGWupxK"
      },
      "source": [
        "Mapeando as portas de entradas com inteiros"
      ]
    },
    {
      "cell_type": "code",
      "metadata": {
        "id": "0dovsrJx1xBx"
      },
      "source": [
        "portas = {'S': 0, 'C': 1, 'Q': 2}\n",
        "\n",
        "dados = [dados_treino, dados_teste]\n",
        "\n",
        "for dataset in dados:\n",
        "  dataset['Embarked'] = dataset['Embarked'].map(portas)"
      ],
      "execution_count": 33,
      "outputs": []
    },
    {
      "cell_type": "code",
      "metadata": {
        "colab": {
          "base_uri": "https://localhost:8080/"
        },
        "id": "s_NRWwLR2Kkw",
        "outputId": "8a66cad2-784a-4170-cda3-5b1c2d53f2d4"
      },
      "source": [
        "dados_treino.info()"
      ],
      "execution_count": 34,
      "outputs": [
        {
          "output_type": "stream",
          "text": [
            "<class 'pandas.core.frame.DataFrame'>\n",
            "RangeIndex: 891 entries, 0 to 890\n",
            "Data columns (total 12 columns):\n",
            " #   Column     Non-Null Count  Dtype\n",
            "---  ------     --------------  -----\n",
            " 0   Survived   891 non-null    int64\n",
            " 1   Pclass     891 non-null    int64\n",
            " 2   Sex        891 non-null    int64\n",
            " 3   Age        891 non-null    int64\n",
            " 4   SibSp      891 non-null    int64\n",
            " 5   Parch      891 non-null    int64\n",
            " 6   Fare       891 non-null    int64\n",
            " 7   Embarked   891 non-null    int64\n",
            " 8   relatives  891 non-null    int64\n",
            " 9   not_alone  891 non-null    int64\n",
            " 10  Deck       891 non-null    int64\n",
            " 11  Title      891 non-null    int64\n",
            "dtypes: int64(12)\n",
            "memory usage: 83.7 KB\n"
          ],
          "name": "stdout"
        }
      ]
    },
    {
      "cell_type": "markdown",
      "metadata": {
        "id": "KpyA_MDdu3Pf"
      },
      "source": [
        "Criando categorias para as idade e substituindo a coluna Age por inteiros"
      ]
    },
    {
      "cell_type": "code",
      "metadata": {
        "id": "_wPA1PgC2NqZ"
      },
      "source": [
        "dados = [dados_treino, dados_teste]\n",
        "\n",
        "bins = [-1, 11, 18, 22, 27, 33, 40, 66, 100]\n",
        "\n",
        "for dataset in dados:\n",
        "\n",
        "  cuts = pd.cut(dataset['Age'].values, bins)\n",
        "\n",
        "  dataset['Age'] = cuts.codes"
      ],
      "execution_count": 35,
      "outputs": []
    },
    {
      "cell_type": "code",
      "metadata": {
        "colab": {
          "base_uri": "https://localhost:8080/"
        },
        "id": "40rm_6ay47XZ",
        "outputId": "1c720a70-7c27-4d91-bf09-29170bc7866c"
      },
      "source": [
        "dados_treino['Age'].value_counts()"
      ],
      "execution_count": 36,
      "outputs": [
        {
          "output_type": "execute_result",
          "data": {
            "text/plain": [
              "6    164\n",
              "4    160\n",
              "5    151\n",
              "3    139\n",
              "2    113\n",
              "1     89\n",
              "0     68\n",
              "7      7\n",
              "Name: Age, dtype: int64"
            ]
          },
          "metadata": {
            "tags": []
          },
          "execution_count": 36
        }
      ]
    },
    {
      "cell_type": "markdown",
      "metadata": {
        "id": "Tkpa51UVvIqs"
      },
      "source": [
        "Fazendo o mesmo que foi feito com a coluna \"Age\" para a coluna \"Fare\""
      ]
    },
    {
      "cell_type": "code",
      "metadata": {
        "id": "WmCKT1xF3xH1"
      },
      "source": [
        "dados = [dados_treino, dados_teste]\n",
        "\n",
        "bins = [-1, 7.91, 14.454, 31, 99, 250, 550]\n",
        "\n",
        "for dataset in dados:\n",
        "\n",
        "  cuts = pd.cut(dataset['Fare'].values, bins)\n",
        "\n",
        "  dataset['Fare'] = cuts.codes"
      ],
      "execution_count": 37,
      "outputs": []
    },
    {
      "cell_type": "code",
      "metadata": {
        "colab": {
          "base_uri": "https://localhost:8080/"
        },
        "id": "bSwF3vLV4qLX",
        "outputId": "3d22d7b1-df2d-47e4-e1e4-1cda0fe828f2"
      },
      "source": [
        "dados_treino['Fare'].value_counts()"
      ],
      "execution_count": 38,
      "outputs": [
        {
          "output_type": "execute_result",
          "data": {
            "text/plain": [
              "0    241\n",
              "2    223\n",
              "1    216\n",
              "3    158\n",
              "4     44\n",
              "5      9\n",
              "Name: Fare, dtype: int64"
            ]
          },
          "metadata": {
            "tags": []
          },
          "execution_count": 38
        }
      ]
    },
    {
      "cell_type": "code",
      "metadata": {
        "colab": {
          "base_uri": "https://localhost:8080/",
          "height": 359
        },
        "id": "4Bnu2AWh6Csb",
        "outputId": "f21e2ac1-5bf2-4b9c-b25b-7020b58af2e3"
      },
      "source": [
        "dados_treino.head(10)"
      ],
      "execution_count": 39,
      "outputs": [
        {
          "output_type": "execute_result",
          "data": {
            "text/html": [
              "<div>\n",
              "<style scoped>\n",
              "    .dataframe tbody tr th:only-of-type {\n",
              "        vertical-align: middle;\n",
              "    }\n",
              "\n",
              "    .dataframe tbody tr th {\n",
              "        vertical-align: top;\n",
              "    }\n",
              "\n",
              "    .dataframe thead th {\n",
              "        text-align: right;\n",
              "    }\n",
              "</style>\n",
              "<table border=\"1\" class=\"dataframe\">\n",
              "  <thead>\n",
              "    <tr style=\"text-align: right;\">\n",
              "      <th></th>\n",
              "      <th>Survived</th>\n",
              "      <th>Pclass</th>\n",
              "      <th>Sex</th>\n",
              "      <th>Age</th>\n",
              "      <th>SibSp</th>\n",
              "      <th>Parch</th>\n",
              "      <th>Fare</th>\n",
              "      <th>Embarked</th>\n",
              "      <th>relatives</th>\n",
              "      <th>not_alone</th>\n",
              "      <th>Deck</th>\n",
              "      <th>Title</th>\n",
              "    </tr>\n",
              "  </thead>\n",
              "  <tbody>\n",
              "    <tr>\n",
              "      <th>0</th>\n",
              "      <td>0</td>\n",
              "      <td>3</td>\n",
              "      <td>0</td>\n",
              "      <td>2</td>\n",
              "      <td>1</td>\n",
              "      <td>0</td>\n",
              "      <td>0</td>\n",
              "      <td>0</td>\n",
              "      <td>1</td>\n",
              "      <td>0</td>\n",
              "      <td>8</td>\n",
              "      <td>1</td>\n",
              "    </tr>\n",
              "    <tr>\n",
              "      <th>1</th>\n",
              "      <td>1</td>\n",
              "      <td>1</td>\n",
              "      <td>1</td>\n",
              "      <td>5</td>\n",
              "      <td>1</td>\n",
              "      <td>0</td>\n",
              "      <td>3</td>\n",
              "      <td>1</td>\n",
              "      <td>1</td>\n",
              "      <td>0</td>\n",
              "      <td>3</td>\n",
              "      <td>3</td>\n",
              "    </tr>\n",
              "    <tr>\n",
              "      <th>2</th>\n",
              "      <td>1</td>\n",
              "      <td>3</td>\n",
              "      <td>1</td>\n",
              "      <td>3</td>\n",
              "      <td>0</td>\n",
              "      <td>0</td>\n",
              "      <td>0</td>\n",
              "      <td>0</td>\n",
              "      <td>0</td>\n",
              "      <td>1</td>\n",
              "      <td>8</td>\n",
              "      <td>2</td>\n",
              "    </tr>\n",
              "    <tr>\n",
              "      <th>3</th>\n",
              "      <td>1</td>\n",
              "      <td>1</td>\n",
              "      <td>1</td>\n",
              "      <td>5</td>\n",
              "      <td>1</td>\n",
              "      <td>0</td>\n",
              "      <td>3</td>\n",
              "      <td>0</td>\n",
              "      <td>1</td>\n",
              "      <td>0</td>\n",
              "      <td>3</td>\n",
              "      <td>3</td>\n",
              "    </tr>\n",
              "    <tr>\n",
              "      <th>4</th>\n",
              "      <td>0</td>\n",
              "      <td>3</td>\n",
              "      <td>0</td>\n",
              "      <td>5</td>\n",
              "      <td>0</td>\n",
              "      <td>0</td>\n",
              "      <td>1</td>\n",
              "      <td>0</td>\n",
              "      <td>0</td>\n",
              "      <td>1</td>\n",
              "      <td>8</td>\n",
              "      <td>1</td>\n",
              "    </tr>\n",
              "    <tr>\n",
              "      <th>5</th>\n",
              "      <td>0</td>\n",
              "      <td>3</td>\n",
              "      <td>0</td>\n",
              "      <td>4</td>\n",
              "      <td>0</td>\n",
              "      <td>0</td>\n",
              "      <td>1</td>\n",
              "      <td>2</td>\n",
              "      <td>0</td>\n",
              "      <td>1</td>\n",
              "      <td>8</td>\n",
              "      <td>1</td>\n",
              "    </tr>\n",
              "    <tr>\n",
              "      <th>6</th>\n",
              "      <td>0</td>\n",
              "      <td>1</td>\n",
              "      <td>0</td>\n",
              "      <td>6</td>\n",
              "      <td>0</td>\n",
              "      <td>0</td>\n",
              "      <td>3</td>\n",
              "      <td>0</td>\n",
              "      <td>0</td>\n",
              "      <td>1</td>\n",
              "      <td>5</td>\n",
              "      <td>1</td>\n",
              "    </tr>\n",
              "    <tr>\n",
              "      <th>7</th>\n",
              "      <td>0</td>\n",
              "      <td>3</td>\n",
              "      <td>0</td>\n",
              "      <td>0</td>\n",
              "      <td>3</td>\n",
              "      <td>1</td>\n",
              "      <td>2</td>\n",
              "      <td>0</td>\n",
              "      <td>4</td>\n",
              "      <td>0</td>\n",
              "      <td>8</td>\n",
              "      <td>4</td>\n",
              "    </tr>\n",
              "    <tr>\n",
              "      <th>8</th>\n",
              "      <td>1</td>\n",
              "      <td>3</td>\n",
              "      <td>1</td>\n",
              "      <td>3</td>\n",
              "      <td>0</td>\n",
              "      <td>2</td>\n",
              "      <td>1</td>\n",
              "      <td>0</td>\n",
              "      <td>2</td>\n",
              "      <td>0</td>\n",
              "      <td>8</td>\n",
              "      <td>3</td>\n",
              "    </tr>\n",
              "    <tr>\n",
              "      <th>9</th>\n",
              "      <td>1</td>\n",
              "      <td>2</td>\n",
              "      <td>1</td>\n",
              "      <td>1</td>\n",
              "      <td>1</td>\n",
              "      <td>0</td>\n",
              "      <td>2</td>\n",
              "      <td>1</td>\n",
              "      <td>1</td>\n",
              "      <td>0</td>\n",
              "      <td>8</td>\n",
              "      <td>3</td>\n",
              "    </tr>\n",
              "  </tbody>\n",
              "</table>\n",
              "</div>"
            ],
            "text/plain": [
              "   Survived  Pclass  Sex  Age  ...  relatives  not_alone  Deck  Title\n",
              "0         0       3    0    2  ...          1          0     8      1\n",
              "1         1       1    1    5  ...          1          0     3      3\n",
              "2         1       3    1    3  ...          0          1     8      2\n",
              "3         1       1    1    5  ...          1          0     3      3\n",
              "4         0       3    0    5  ...          0          1     8      1\n",
              "5         0       3    0    4  ...          0          1     8      1\n",
              "6         0       1    0    6  ...          0          1     5      1\n",
              "7         0       3    0    0  ...          4          0     8      4\n",
              "8         1       3    1    3  ...          2          0     8      3\n",
              "9         1       2    1    1  ...          1          0     8      3\n",
              "\n",
              "[10 rows x 12 columns]"
            ]
          },
          "metadata": {
            "tags": []
          },
          "execution_count": 39
        }
      ]
    },
    {
      "cell_type": "markdown",
      "metadata": {
        "id": "OL_zNpVq732P"
      },
      "source": [
        "# Realizando a classificação usando Random Forest"
      ]
    },
    {
      "cell_type": "markdown",
      "metadata": {
        "id": "cAkIglSxvU5t"
      },
      "source": [
        "Dividindo a base entre variaveis de interesse e variaveis preditoras, e base de teste"
      ]
    },
    {
      "cell_type": "code",
      "metadata": {
        "id": "e4MwYCfr7Kko"
      },
      "source": [
        "X_treino = dados_treino.drop(columns= 'Survived', axis= 1)\n",
        "y_treino = dados_treino['Survived']\n",
        "X_teste = dados_teste.copy()"
      ],
      "execution_count": 40,
      "outputs": []
    },
    {
      "cell_type": "code",
      "metadata": {
        "id": "UZb-hEMS-fQT"
      },
      "source": [
        "submission = pd.read_csv('gender_submission.csv')"
      ],
      "execution_count": 41,
      "outputs": []
    },
    {
      "cell_type": "markdown",
      "metadata": {
        "id": "ng9X6G6_HxiD"
      },
      "source": [
        "Aplicando o modelo"
      ]
    },
    {
      "cell_type": "code",
      "metadata": {
        "colab": {
          "base_uri": "https://localhost:8080/"
        },
        "id": "zUX80K_29OQ6",
        "outputId": "9fc8cca7-c8b3-4599-c0b2-4b445561c73e"
      },
      "source": [
        "rfc = RandomForestClassifier()\n",
        "\n",
        "rfc.fit(X_treino, y_treino)"
      ],
      "execution_count": 42,
      "outputs": [
        {
          "output_type": "execute_result",
          "data": {
            "text/plain": [
              "RandomForestClassifier(bootstrap=True, ccp_alpha=0.0, class_weight=None,\n",
              "                       criterion='gini', max_depth=None, max_features='auto',\n",
              "                       max_leaf_nodes=None, max_samples=None,\n",
              "                       min_impurity_decrease=0.0, min_impurity_split=None,\n",
              "                       min_samples_leaf=1, min_samples_split=2,\n",
              "                       min_weight_fraction_leaf=0.0, n_estimators=100,\n",
              "                       n_jobs=None, oob_score=False, random_state=None,\n",
              "                       verbose=0, warm_start=False)"
            ]
          },
          "metadata": {
            "tags": []
          },
          "execution_count": 42
        }
      ]
    },
    {
      "cell_type": "markdown",
      "metadata": {
        "id": "CH5nYepeH4UA"
      },
      "source": [
        "Realizando a previsão"
      ]
    },
    {
      "cell_type": "code",
      "metadata": {
        "id": "T_sbW8u89fwz"
      },
      "source": [
        "previsao = rfc.predict(X_teste)"
      ],
      "execution_count": 43,
      "outputs": []
    },
    {
      "cell_type": "markdown",
      "metadata": {
        "id": "NwAdjMzjIDBX"
      },
      "source": [
        "Obtendo o score do modelo"
      ]
    },
    {
      "cell_type": "code",
      "metadata": {
        "colab": {
          "base_uri": "https://localhost:8080/"
        },
        "id": "vCGDLz__O0n9",
        "outputId": "58e2a3ae-0d0e-4b6a-cad2-1db15769bcb8"
      },
      "source": [
        "accuracy_score(previsao, submission['Survived'])"
      ],
      "execution_count": 44,
      "outputs": [
        {
          "output_type": "execute_result",
          "data": {
            "text/plain": [
              "0.8325358851674641"
            ]
          },
          "metadata": {
            "tags": []
          },
          "execution_count": 44
        }
      ]
    },
    {
      "cell_type": "code",
      "metadata": {
        "colab": {
          "base_uri": "https://localhost:8080/"
        },
        "id": "cYkk2L3iwS1E",
        "outputId": "2651d772-cc2d-4b5c-89dd-5070eff8b084"
      },
      "source": [
        "confusion_matrix(previsao, submission['Survived'])"
      ],
      "execution_count": 45,
      "outputs": [
        {
          "output_type": "execute_result",
          "data": {
            "text/plain": [
              "array([[231,  35],\n",
              "       [ 35, 117]])"
            ]
          },
          "metadata": {
            "tags": []
          },
          "execution_count": 45
        }
      ]
    },
    {
      "cell_type": "code",
      "metadata": {
        "id": "XZMdfCrtNSaO"
      },
      "source": [
        "submission['Survived'] = previsao"
      ],
      "execution_count": 46,
      "outputs": []
    },
    {
      "cell_type": "code",
      "metadata": {
        "id": "FqSWlw5_NWa2"
      },
      "source": [
        "submission.to_csv('submissao.csv', index= False)"
      ],
      "execution_count": 47,
      "outputs": []
    },
    {
      "cell_type": "code",
      "metadata": {
        "colab": {
          "base_uri": "https://localhost:8080/"
        },
        "id": "4s11Fx7ZNjmv",
        "outputId": "74b992e0-a371-4d50-fd76-da77740b392a"
      },
      "source": [
        "submission['Survived'].value_counts()"
      ],
      "execution_count": 48,
      "outputs": [
        {
          "output_type": "execute_result",
          "data": {
            "text/plain": [
              "0    266\n",
              "1    152\n",
              "Name: Survived, dtype: int64"
            ]
          },
          "metadata": {
            "tags": []
          },
          "execution_count": 48
        }
      ]
    }
  ]
}